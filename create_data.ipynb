{
 "cells": [
  {
   "cell_type": "code",
   "execution_count": 27,
   "metadata": {},
   "outputs": [],
   "source": [
    "import numpy as np\n",
    "import pandas as pd\n",
    "import requests\n",
    "import re"
   ]
  },
  {
   "cell_type": "code",
   "execution_count": 13,
   "metadata": {},
   "outputs": [],
   "source": [
    "def get_data(url, number):\n",
    "    headers = {'User-agent': 'eamonious'}\n",
    "    end_addedum = '&sort=des&size=1000'\n",
    "    base_value = 1545243580\n",
    "    base_url = url + str(base_value) + end_addedum\n",
    "    res = requests.get(base_url, headers=headers)\n",
    "    json = res.json()\n",
    "    comments = pd.DataFrame(json['data'])\n",
    "    comments = comments[['body','created_utc','id','parent_id','score','subreddit']]\n",
    "    comments['parent_id'] = comments['parent_id'].map(lambda x: x if 't3_' in x else 0)\n",
    "    comments = comments[comments['parent_id']!=0]\n",
    "    comments = comments[comments['body']!='[removed]']\n",
    "    for i in range(1, number):\n",
    "        headers = {'User-agent': 'eamonious'}\n",
    "        temp_url = url + str(base_value - i*1036800) + end_addedum\n",
    "        print(temp_url)\n",
    "        print(\"https://api.pushshift.io/reddit/search/comment/?subreddit=askmen&before={}&sort=des&size=1000\".format(1545243580 - i*1036800))\n",
    "        res = requests.get(temp_url, headers=headers)\n",
    "        json = res.json()\n",
    "        commentbloc = pd.DataFrame(json['data'])\n",
    "        commentbloc = commentbloc[['body','created_utc','id','parent_id','score','subreddit']]\n",
    "        commentbloc['parent_id'] = commentbloc['parent_id'].map(lambda x: x if 't3_' in x else 0)\n",
    "        commentbloc = commentbloc[commentbloc['parent_id']!=0]\n",
    "        commentbloc = commentbloc[commentbloc['body']!='[removed]']\n",
    "        comments = pd.concat([comments, commentbloc], ignore_index=True)\n",
    "    \n",
    "    return comments"
   ]
  },
  {
   "cell_type": "code",
   "execution_count": 14,
   "metadata": {},
   "outputs": [],
   "source": [
    "MEN_URL = \"https://api.pushshift.io/reddit/search/comment/?subreddit=askmen&before=\"\n",
    "WOMEN_URL = \"https://api.pushshift.io/reddit/search/comment/?subreddit=askwomen&before=\""
   ]
  },
  {
   "cell_type": "code",
   "execution_count": 16,
   "metadata": {},
   "outputs": [],
   "source": [
    "men_comments = get_data(MEN_URL, 80)"
   ]
  },
  {
   "cell_type": "code",
   "execution_count": 17,
   "metadata": {},
   "outputs": [
    {
     "data": {
      "text/html": [
       "<div>\n",
       "<style scoped>\n",
       "    .dataframe tbody tr th:only-of-type {\n",
       "        vertical-align: middle;\n",
       "    }\n",
       "\n",
       "    .dataframe tbody tr th {\n",
       "        vertical-align: top;\n",
       "    }\n",
       "\n",
       "    .dataframe thead th {\n",
       "        text-align: right;\n",
       "    }\n",
       "</style>\n",
       "<table border=\"1\" class=\"dataframe\">\n",
       "  <thead>\n",
       "    <tr style=\"text-align: right;\">\n",
       "      <th></th>\n",
       "      <th>body</th>\n",
       "      <th>created_utc</th>\n",
       "      <th>id</th>\n",
       "      <th>parent_id</th>\n",
       "      <th>score</th>\n",
       "      <th>subreddit</th>\n",
       "    </tr>\n",
       "  </thead>\n",
       "  <tbody>\n",
       "    <tr>\n",
       "      <th>0</th>\n",
       "      <td>I was 23 but I went with my ~29 year old cowor...</td>\n",
       "      <td>1545243578</td>\n",
       "      <td>ec4lbi4</td>\n",
       "      <td>t3_a7oy9v</td>\n",
       "      <td>5</td>\n",
       "      <td>AskMen</td>\n",
       "    </tr>\n",
       "    <tr>\n",
       "      <th>1</th>\n",
       "      <td>Portland, OR.\\n\\nThe city itself is now unaffo...</td>\n",
       "      <td>1545243546</td>\n",
       "      <td>ec4la0n</td>\n",
       "      <td>t3_a7mkui</td>\n",
       "      <td>3</td>\n",
       "      <td>AskMen</td>\n",
       "    </tr>\n",
       "    <tr>\n",
       "      <th>2</th>\n",
       "      <td>nope.    \"the cats goodbye\"      watch how a c...</td>\n",
       "      <td>1545243536</td>\n",
       "      <td>ec4l9lm</td>\n",
       "      <td>t3_a7fe60</td>\n",
       "      <td>1</td>\n",
       "      <td>AskMen</td>\n",
       "    </tr>\n",
       "    <tr>\n",
       "      <th>3</th>\n",
       "      <td>Drunk as fuck me during an unintended one nigh...</td>\n",
       "      <td>1545243524</td>\n",
       "      <td>ec4l90i</td>\n",
       "      <td>t3_a79zu9</td>\n",
       "      <td>3</td>\n",
       "      <td>AskMen</td>\n",
       "    </tr>\n",
       "    <tr>\n",
       "      <th>4</th>\n",
       "      <td>There was this one time when I went over one o...</td>\n",
       "      <td>1545243449</td>\n",
       "      <td>ec4l5g6</td>\n",
       "      <td>t3_a7kmvc</td>\n",
       "      <td>134</td>\n",
       "      <td>AskMen</td>\n",
       "    </tr>\n",
       "    <tr>\n",
       "      <th>...</th>\n",
       "      <td>...</td>\n",
       "      <td>...</td>\n",
       "      <td>...</td>\n",
       "      <td>...</td>\n",
       "      <td>...</td>\n",
       "      <td>...</td>\n",
       "    </tr>\n",
       "    <tr>\n",
       "      <th>8531</th>\n",
       "      <td>You really, really need to get this book: [Ful...</td>\n",
       "      <td>1463329753</td>\n",
       "      <td>d36fx8l</td>\n",
       "      <td>t3_4jeo8t</td>\n",
       "      <td>2</td>\n",
       "      <td>AskMen</td>\n",
       "    </tr>\n",
       "    <tr>\n",
       "      <th>8532</th>\n",
       "      <td>[deleted]</td>\n",
       "      <td>1463329697</td>\n",
       "      <td>d36fw2r</td>\n",
       "      <td>t3_4jgp5r</td>\n",
       "      <td>1</td>\n",
       "      <td>AskMen</td>\n",
       "    </tr>\n",
       "    <tr>\n",
       "      <th>8533</th>\n",
       "      <td>Probably like once a day, I make a few weird f...</td>\n",
       "      <td>1463329690</td>\n",
       "      <td>d36fvwv</td>\n",
       "      <td>t3_4jgp5r</td>\n",
       "      <td>1</td>\n",
       "      <td>AskMen</td>\n",
       "    </tr>\n",
       "    <tr>\n",
       "      <th>8534</th>\n",
       "      <td>/r/blackpeopletwitter</td>\n",
       "      <td>1463329670</td>\n",
       "      <td>d36fvh7</td>\n",
       "      <td>t3_4jgc80</td>\n",
       "      <td>0</td>\n",
       "      <td>AskMen</td>\n",
       "    </tr>\n",
       "    <tr>\n",
       "      <th>8535</th>\n",
       "      <td>Seriously, it's a *mental* thing. Trust me bec...</td>\n",
       "      <td>1463329562</td>\n",
       "      <td>d36ft7e</td>\n",
       "      <td>t3_4jfcpp</td>\n",
       "      <td>3</td>\n",
       "      <td>AskMen</td>\n",
       "    </tr>\n",
       "  </tbody>\n",
       "</table>\n",
       "<p>8536 rows × 6 columns</p>\n",
       "</div>"
      ],
      "text/plain": [
       "                                                   body  created_utc       id  \\\n",
       "0     I was 23 but I went with my ~29 year old cowor...   1545243578  ec4lbi4   \n",
       "1     Portland, OR.\\n\\nThe city itself is now unaffo...   1545243546  ec4la0n   \n",
       "2     nope.    \"the cats goodbye\"      watch how a c...   1545243536  ec4l9lm   \n",
       "3     Drunk as fuck me during an unintended one nigh...   1545243524  ec4l90i   \n",
       "4     There was this one time when I went over one o...   1545243449  ec4l5g6   \n",
       "...                                                 ...          ...      ...   \n",
       "8531  You really, really need to get this book: [Ful...   1463329753  d36fx8l   \n",
       "8532                                          [deleted]   1463329697  d36fw2r   \n",
       "8533  Probably like once a day, I make a few weird f...   1463329690  d36fvwv   \n",
       "8534                              /r/blackpeopletwitter   1463329670  d36fvh7   \n",
       "8535  Seriously, it's a *mental* thing. Trust me bec...   1463329562  d36ft7e   \n",
       "\n",
       "      parent_id  score subreddit  \n",
       "0     t3_a7oy9v      5    AskMen  \n",
       "1     t3_a7mkui      3    AskMen  \n",
       "2     t3_a7fe60      1    AskMen  \n",
       "3     t3_a79zu9      3    AskMen  \n",
       "4     t3_a7kmvc    134    AskMen  \n",
       "...         ...    ...       ...  \n",
       "8531  t3_4jeo8t      2    AskMen  \n",
       "8532  t3_4jgp5r      1    AskMen  \n",
       "8533  t3_4jgp5r      1    AskMen  \n",
       "8534  t3_4jgc80      0    AskMen  \n",
       "8535  t3_4jfcpp      3    AskMen  \n",
       "\n",
       "[8536 rows x 6 columns]"
      ]
     },
     "execution_count": 17,
     "metadata": {},
     "output_type": "execute_result"
    }
   ],
   "source": [
    "men_comments"
   ]
  },
  {
   "cell_type": "code",
   "execution_count": 18,
   "metadata": {},
   "outputs": [],
   "source": [
    "women_comments = get_data(WOMEN_URL, 80)"
   ]
  },
  {
   "cell_type": "code",
   "execution_count": 21,
   "metadata": {},
   "outputs": [],
   "source": [
    "def further_processing(df, subreddit):\n",
    "\n",
    "    df.dropna(inplace=True)\n",
    "    df.drop_duplicates('id', inplace=True)\n",
    "\n",
    "    df = df[df['body']!='[deleted]']\n",
    "    df = df[df['body']!='\\\\[removed\\]']\n",
    "    df['body'] = df['body'].map(lambda x: 0 if 'has been removed' in x else x)\n",
    "    df['body'] = df['body'].map(lambda x: 0 if subreddit in str(x) else x)\n",
    "    df['body'] = df['body'].map(lambda x: 0 if 'emoved' in str(x)[0:10] else x)\n",
    "    \n",
    "    df = df[df['body']!=0]\n",
    "\n",
    "    df = df[df['body']!='Please feel free to respond based on the genders that you find attractive. This question is not limited to women who date men.']\n",
    "\n",
    "    return df"
   ]
  },
  {
   "cell_type": "code",
   "execution_count": 22,
   "metadata": {},
   "outputs": [],
   "source": [
    "processed_men_comments = further_processing(men_comments, 'AskMen')\n",
    "processed_women_comments = further_processing(women_comments, 'AskWomen')"
   ]
  },
  {
   "cell_type": "code",
   "execution_count": 23,
   "metadata": {},
   "outputs": [
    {
     "data": {
      "text/plain": [
       "((7452, 6), (7549, 6))"
      ]
     },
     "execution_count": 23,
     "metadata": {},
     "output_type": "execute_result"
    }
   ],
   "source": [
    "processed_men_comments.shape, processed_women_comments.shape"
   ]
  },
  {
   "cell_type": "code",
   "execution_count": 24,
   "metadata": {},
   "outputs": [
    {
     "data": {
      "text/html": [
       "<div>\n",
       "<style scoped>\n",
       "    .dataframe tbody tr th:only-of-type {\n",
       "        vertical-align: middle;\n",
       "    }\n",
       "\n",
       "    .dataframe tbody tr th {\n",
       "        vertical-align: top;\n",
       "    }\n",
       "\n",
       "    .dataframe thead th {\n",
       "        text-align: right;\n",
       "    }\n",
       "</style>\n",
       "<table border=\"1\" class=\"dataframe\">\n",
       "  <thead>\n",
       "    <tr style=\"text-align: right;\">\n",
       "      <th></th>\n",
       "      <th>body</th>\n",
       "      <th>created_utc</th>\n",
       "      <th>id</th>\n",
       "      <th>parent_id</th>\n",
       "      <th>score</th>\n",
       "      <th>subreddit</th>\n",
       "    </tr>\n",
       "  </thead>\n",
       "  <tbody>\n",
       "    <tr>\n",
       "      <th>0</th>\n",
       "      <td>I was 23 but I went with my ~29 year old cowor...</td>\n",
       "      <td>1545243578</td>\n",
       "      <td>ec4lbi4</td>\n",
       "      <td>t3_a7oy9v</td>\n",
       "      <td>5</td>\n",
       "      <td>AskMen</td>\n",
       "    </tr>\n",
       "    <tr>\n",
       "      <th>1</th>\n",
       "      <td>Portland, OR.\\n\\nThe city itself is now unaffo...</td>\n",
       "      <td>1545243546</td>\n",
       "      <td>ec4la0n</td>\n",
       "      <td>t3_a7mkui</td>\n",
       "      <td>3</td>\n",
       "      <td>AskMen</td>\n",
       "    </tr>\n",
       "    <tr>\n",
       "      <th>2</th>\n",
       "      <td>nope.    \"the cats goodbye\"      watch how a c...</td>\n",
       "      <td>1545243536</td>\n",
       "      <td>ec4l9lm</td>\n",
       "      <td>t3_a7fe60</td>\n",
       "      <td>1</td>\n",
       "      <td>AskMen</td>\n",
       "    </tr>\n",
       "    <tr>\n",
       "      <th>3</th>\n",
       "      <td>Drunk as fuck me during an unintended one nigh...</td>\n",
       "      <td>1545243524</td>\n",
       "      <td>ec4l90i</td>\n",
       "      <td>t3_a79zu9</td>\n",
       "      <td>3</td>\n",
       "      <td>AskMen</td>\n",
       "    </tr>\n",
       "    <tr>\n",
       "      <th>4</th>\n",
       "      <td>There was this one time when I went over one o...</td>\n",
       "      <td>1545243449</td>\n",
       "      <td>ec4l5g6</td>\n",
       "      <td>t3_a7kmvc</td>\n",
       "      <td>134</td>\n",
       "      <td>AskMen</td>\n",
       "    </tr>\n",
       "  </tbody>\n",
       "</table>\n",
       "</div>"
      ],
      "text/plain": [
       "                                                body  created_utc       id  \\\n",
       "0  I was 23 but I went with my ~29 year old cowor...   1545243578  ec4lbi4   \n",
       "1  Portland, OR.\\n\\nThe city itself is now unaffo...   1545243546  ec4la0n   \n",
       "2  nope.    \"the cats goodbye\"      watch how a c...   1545243536  ec4l9lm   \n",
       "3  Drunk as fuck me during an unintended one nigh...   1545243524  ec4l90i   \n",
       "4  There was this one time when I went over one o...   1545243449  ec4l5g6   \n",
       "\n",
       "   parent_id  score subreddit  \n",
       "0  t3_a7oy9v      5    AskMen  \n",
       "1  t3_a7mkui      3    AskMen  \n",
       "2  t3_a7fe60      1    AskMen  \n",
       "3  t3_a79zu9      3    AskMen  \n",
       "4  t3_a7kmvc    134    AskMen  "
      ]
     },
     "execution_count": 24,
     "metadata": {},
     "output_type": "execute_result"
    }
   ],
   "source": [
    "comments = pd.concat([processed_men_comments, processed_women_comments])\n",
    "comments = comments.reset_index(drop=True)\n",
    "comments.head()"
   ]
  },
  {
   "cell_type": "code",
   "execution_count": 28,
   "metadata": {},
   "outputs": [],
   "source": [
    "#This function selects any consecutive combination of \\r's and \\n's in a bloc of text, \n",
    "#and replaces that selection with a single space.\n",
    "def replace_linebreaks_w_space(x):\n",
    "\treturn re.sub('([\\r\\n]+)',' ',x)\n",
    "\n",
    "#This function selects any stretch of two or more consecutive spaces in a bloc of text,\n",
    "#and replaces that selection with a single space.\n",
    "def replace_multispace_w_space(x):\n",
    "\treturn re.sub('([ ]{2,})',' ',x)\n",
    "\n",
    "#Here we take every comment and apply the two functions to it.\n",
    "comments['body'] = comments['body'].map(replace_linebreaks_w_space)\n",
    "comments['body'] = comments['body'].map(replace_multispace_w_space)"
   ]
  },
  {
   "cell_type": "code",
   "execution_count": 29,
   "metadata": {},
   "outputs": [],
   "source": [
    "#Strip away any spaces at the beginning or end of each comment, splits the comment into a list of words, \n",
    "#and returns the length of that list (i.e.; the number of words in the comment)\n",
    "comments['word_length'] = comments['body'].map(lambda x: len(x.strip().split(' ')))"
   ]
  },
  {
   "cell_type": "code",
   "execution_count": 30,
   "metadata": {},
   "outputs": [
    {
     "data": {
      "text/html": [
       "<div>\n",
       "<style scoped>\n",
       "    .dataframe tbody tr th:only-of-type {\n",
       "        vertical-align: middle;\n",
       "    }\n",
       "\n",
       "    .dataframe tbody tr th {\n",
       "        vertical-align: top;\n",
       "    }\n",
       "\n",
       "    .dataframe thead th {\n",
       "        text-align: right;\n",
       "    }\n",
       "</style>\n",
       "<table border=\"1\" class=\"dataframe\">\n",
       "  <thead>\n",
       "    <tr style=\"text-align: right;\">\n",
       "      <th></th>\n",
       "      <th>body</th>\n",
       "      <th>created_utc</th>\n",
       "      <th>id</th>\n",
       "      <th>parent_id</th>\n",
       "      <th>score</th>\n",
       "      <th>subreddit</th>\n",
       "      <th>word_length</th>\n",
       "    </tr>\n",
       "  </thead>\n",
       "  <tbody>\n",
       "    <tr>\n",
       "      <th>0</th>\n",
       "      <td>I was 23 but I went with my ~29 year old cowor...</td>\n",
       "      <td>1545243578</td>\n",
       "      <td>ec4lbi4</td>\n",
       "      <td>t3_a7oy9v</td>\n",
       "      <td>5</td>\n",
       "      <td>AskMen</td>\n",
       "      <td>23</td>\n",
       "    </tr>\n",
       "    <tr>\n",
       "      <th>1</th>\n",
       "      <td>Portland, OR. The city itself is now unafforda...</td>\n",
       "      <td>1545243546</td>\n",
       "      <td>ec4la0n</td>\n",
       "      <td>t3_a7mkui</td>\n",
       "      <td>3</td>\n",
       "      <td>AskMen</td>\n",
       "      <td>50</td>\n",
       "    </tr>\n",
       "    <tr>\n",
       "      <th>2</th>\n",
       "      <td>nope. \"the cats goodbye\" watch how a cat says ...</td>\n",
       "      <td>1545243536</td>\n",
       "      <td>ec4l9lm</td>\n",
       "      <td>t3_a7fe60</td>\n",
       "      <td>1</td>\n",
       "      <td>AskMen</td>\n",
       "      <td>28</td>\n",
       "    </tr>\n",
       "    <tr>\n",
       "      <th>3</th>\n",
       "      <td>Drunk as fuck me during an unintended one nigh...</td>\n",
       "      <td>1545243524</td>\n",
       "      <td>ec4l90i</td>\n",
       "      <td>t3_a79zu9</td>\n",
       "      <td>3</td>\n",
       "      <td>AskMen</td>\n",
       "      <td>16</td>\n",
       "    </tr>\n",
       "    <tr>\n",
       "      <th>4</th>\n",
       "      <td>There was this one time when I went over one o...</td>\n",
       "      <td>1545243449</td>\n",
       "      <td>ec4l5g6</td>\n",
       "      <td>t3_a7kmvc</td>\n",
       "      <td>134</td>\n",
       "      <td>AskMen</td>\n",
       "      <td>192</td>\n",
       "    </tr>\n",
       "  </tbody>\n",
       "</table>\n",
       "</div>"
      ],
      "text/plain": [
       "                                                body  created_utc       id  \\\n",
       "0  I was 23 but I went with my ~29 year old cowor...   1545243578  ec4lbi4   \n",
       "1  Portland, OR. The city itself is now unafforda...   1545243546  ec4la0n   \n",
       "2  nope. \"the cats goodbye\" watch how a cat says ...   1545243536  ec4l9lm   \n",
       "3  Drunk as fuck me during an unintended one nigh...   1545243524  ec4l90i   \n",
       "4  There was this one time when I went over one o...   1545243449  ec4l5g6   \n",
       "\n",
       "   parent_id  score subreddit  word_length  \n",
       "0  t3_a7oy9v      5    AskMen           23  \n",
       "1  t3_a7mkui      3    AskMen           50  \n",
       "2  t3_a7fe60      1    AskMen           28  \n",
       "3  t3_a79zu9      3    AskMen           16  \n",
       "4  t3_a7kmvc    134    AskMen          192  "
      ]
     },
     "execution_count": 30,
     "metadata": {},
     "output_type": "execute_result"
    }
   ],
   "source": [
    "comments.head()"
   ]
  },
  {
   "cell_type": "code",
   "execution_count": 31,
   "metadata": {},
   "outputs": [
    {
     "data": {
      "text/plain": [
       "13963"
      ]
     },
     "execution_count": 31,
     "metadata": {},
     "output_type": "execute_result"
    }
   ],
   "source": [
    "comments = comments[comments['word_length']>=4]\n",
    "len(comments)"
   ]
  },
  {
   "cell_type": "code",
   "execution_count": 32,
   "metadata": {},
   "outputs": [
    {
     "data": {
      "text/plain": [
       "AskMen      13848\n",
       "AskWomen      115\n",
       "Name: subreddit, dtype: int64"
      ]
     },
     "execution_count": 32,
     "metadata": {},
     "output_type": "execute_result"
    }
   ],
   "source": [
    "comments['subreddit'].value_counts()"
   ]
  },
  {
   "cell_type": "code",
   "execution_count": 33,
   "metadata": {},
   "outputs": [],
   "source": [
    "comments.to_csv('comments_final.csv',index=False)"
   ]
  }
 ],
 "metadata": {
  "kernelspec": {
   "display_name": "Python 3.10.7 64-bit",
   "language": "python",
   "name": "python3"
  },
  "language_info": {
   "codemirror_mode": {
    "name": "ipython",
    "version": 3
   },
   "file_extension": ".py",
   "mimetype": "text/x-python",
   "name": "python",
   "nbconvert_exporter": "python",
   "pygments_lexer": "ipython3",
   "version": "3.10.8"
  },
  "orig_nbformat": 4,
  "vscode": {
   "interpreter": {
    "hash": "767d51c1340bd893661ea55ea3124f6de3c7a262a8b4abca0554b478b1e2ff90"
   }
  }
 },
 "nbformat": 4,
 "nbformat_minor": 2
}
