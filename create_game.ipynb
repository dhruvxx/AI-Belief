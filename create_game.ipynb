{
 "cells": [
  {
   "cell_type": "code",
   "execution_count": 5,
   "metadata": {},
   "outputs": [],
   "source": [
    "import pandas as pd\n",
    "import numpy as np\n",
    "import json"
   ]
  },
  {
   "cell_type": "code",
   "execution_count": 6,
   "metadata": {},
   "outputs": [],
   "source": [
    "with open('dataset.json') as f:\n",
    "    data = json.load(f)"
   ]
  },
  {
   "cell_type": "code",
   "execution_count": 11,
   "metadata": {},
   "outputs": [],
   "source": [
    "df = pd.read_csv('users_data.csv')"
   ]
  },
  {
   "cell_type": "code",
   "execution_count": 12,
   "metadata": {},
   "outputs": [
    {
     "data": {
      "text/html": [
       "<div>\n",
       "<style scoped>\n",
       "    .dataframe tbody tr th:only-of-type {\n",
       "        vertical-align: middle;\n",
       "    }\n",
       "\n",
       "    .dataframe tbody tr th {\n",
       "        vertical-align: top;\n",
       "    }\n",
       "\n",
       "    .dataframe thead th {\n",
       "        text-align: right;\n",
       "    }\n",
       "</style>\n",
       "<table border=\"1\" class=\"dataframe\">\n",
       "  <thead>\n",
       "    <tr style=\"text-align: right;\">\n",
       "      <th></th>\n",
       "      <th>Unnamed: 0</th>\n",
       "      <th>Name</th>\n",
       "      <th>Age</th>\n",
       "      <th>Gender</th>\n",
       "      <th>ML Experience</th>\n",
       "      <th>Zero Percentage</th>\n",
       "      <th>Twenty Five Percentage</th>\n",
       "      <th>Fifty Percentage</th>\n",
       "      <th>Seventy Five Percentage</th>\n",
       "      <th>Hundred Percentage</th>\n",
       "    </tr>\n",
       "  </thead>\n",
       "  <tbody>\n",
       "  </tbody>\n",
       "</table>\n",
       "</div>"
      ],
      "text/plain": [
       "Empty DataFrame\n",
       "Columns: [Unnamed: 0, Name, Age, Gender, ML Experience, Zero Percentage, Twenty Five Percentage, Fifty Percentage, Seventy Five Percentage, Hundred Percentage]\n",
       "Index: []"
      ]
     },
     "execution_count": 12,
     "metadata": {},
     "output_type": "execute_result"
    }
   ],
   "source": [
    "df.head()"
   ]
  },
  {
   "cell_type": "code",
   "execution_count": 13,
   "metadata": {},
   "outputs": [],
   "source": [
    "def show_questions(set_number):\n",
    "    question_bank = data[set_number]\n",
    "    print(question_bank)"
   ]
  },
  {
   "cell_type": "code",
   "execution_count": 14,
   "metadata": {},
   "outputs": [
    {
     "name": "stdout",
     "output_type": "stream",
     "text": [
      "{'0': {'sentence': \"Not the greatest. My period came with a vengeance. Things are slow at work due to the holiday. We had a Secret Santa gift exchange at work and I somehow ended up with no present, which sucked. I've been doing a lot of last minute Christmas shopping and getting ready for the holiday. Friday is my last day at work through the new year, and I'm really looking forward to the break.\", 'gender': 'female'}, '0.25': {'sentence': ' Man the fuck up! Grab your junk and think to yourself, \"would I rather know the movie wasn\\'t that scary but I braved myself through it, jumped at a few scenes but I didn\\'t piss myself and possibly got laid or played video games and jerked off till nothing came out?\"', 'gender': 'male'}, '0.5': {'sentence': \"I have a car already. It's a 5spd 2008 Civic Coupe. It's a bit beat up looking but it runs well. The best thing about it is when I get in it and I apply pressure to the gas pedal, it takes me to the location I direct it towards. Really saves a lot of time, so yeah, I think I'm good with that for now. Really, it has everything I want from a car, with the moving faster than I can walk stuff.\", 'gender': 'male'}, '0.75': {'sentence': \"Because you're a man, and men lead. Jesus christ are you a girl?\", 'gender': 'male'}, '1': {'sentence': 'Since other topics are covered, I’ll address your edit and just say you’re very, very wrong. Guys get accused of harassment for the slightest things. And no one takes the time to figure out if it actually was, as soon as a woman says something to the effect of her being harassed everyone comes to the rescue. I’m glad you’re rational enough that you wouldn’t get pissy towards a guy for hitting on you but I, and probably every guy who has ever hit on a girl, have gotten told off simply for trying to start a conversation. ', 'gender': 'male'}}\n"
     ]
    }
   ],
   "source": [
    "show_questions('1')"
   ]
  },
  {
   "cell_type": "code",
   "execution_count": null,
   "metadata": {},
   "outputs": [],
   "source": []
  }
 ],
 "metadata": {
  "kernelspec": {
   "display_name": "Python 3.10.8 64-bit",
   "language": "python",
   "name": "python3"
  },
  "language_info": {
   "codemirror_mode": {
    "name": "ipython",
    "version": 3
   },
   "file_extension": ".py",
   "mimetype": "text/x-python",
   "name": "python",
   "nbconvert_exporter": "python",
   "pygments_lexer": "ipython3",
   "version": "3.10.8"
  },
  "orig_nbformat": 4,
  "vscode": {
   "interpreter": {
    "hash": "767d51c1340bd893661ea55ea3124f6de3c7a262a8b4abca0554b478b1e2ff90"
   }
  }
 },
 "nbformat": 4,
 "nbformat_minor": 2
}
